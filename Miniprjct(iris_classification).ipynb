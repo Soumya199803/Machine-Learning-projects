{
  "nbformat": 4,
  "nbformat_minor": 0,
  "metadata": {
    "colab": {
      "provenance": [],
      "authorship_tag": "ABX9TyPD3afbUex5axyOlCtiNPKt",
      "include_colab_link": true
    },
    "kernelspec": {
      "name": "python3",
      "display_name": "Python 3"
    },
    "language_info": {
      "name": "python"
    }
  },
  "cells": [
    {
      "cell_type": "markdown",
      "metadata": {
        "id": "view-in-github",
        "colab_type": "text"
      },
      "source": [
        "<a href=\"https://colab.research.google.com/github/Soumya199803/Machine-Learning-projects/blob/main/Miniprjct(iris_classification).ipynb\" target=\"_parent\"><img src=\"https://colab.research.google.com/assets/colab-badge.svg\" alt=\"Open In Colab\"/></a>"
      ]
    },
    {
      "cell_type": "markdown",
      "source": [
        "**1: Installing required libraries**"
      ],
      "metadata": {
        "id": "dIouiSydaEgv"
      }
    },
    {
      "cell_type": "code",
      "execution_count": null,
      "metadata": {
        "colab": {
          "base_uri": "https://localhost:8080/"
        },
        "id": "28lhtx1iYHNk",
        "outputId": "6bc3eae8-80d2-4c59-b480-dbbec21c7337"
      },
      "outputs": [
        {
          "output_type": "stream",
          "name": "stdout",
          "text": [
            "Requirement already satisfied: pandas in /usr/local/lib/python3.11/dist-packages (2.2.2)\n",
            "Requirement already satisfied: numpy in /usr/local/lib/python3.11/dist-packages (2.0.2)\n",
            "Requirement already satisfied: scikit-learn in /usr/local/lib/python3.11/dist-packages (1.6.1)\n",
            "Requirement already satisfied: matplotlib in /usr/local/lib/python3.11/dist-packages (3.10.0)\n",
            "Requirement already satisfied: seaborn in /usr/local/lib/python3.11/dist-packages (0.13.2)\n",
            "Requirement already satisfied: python-dateutil>=2.8.2 in /usr/local/lib/python3.11/dist-packages (from pandas) (2.9.0.post0)\n",
            "Requirement already satisfied: pytz>=2020.1 in /usr/local/lib/python3.11/dist-packages (from pandas) (2025.2)\n",
            "Requirement already satisfied: tzdata>=2022.7 in /usr/local/lib/python3.11/dist-packages (from pandas) (2025.2)\n",
            "Requirement already satisfied: scipy>=1.6.0 in /usr/local/lib/python3.11/dist-packages (from scikit-learn) (1.15.3)\n",
            "Requirement already satisfied: joblib>=1.2.0 in /usr/local/lib/python3.11/dist-packages (from scikit-learn) (1.5.1)\n",
            "Requirement already satisfied: threadpoolctl>=3.1.0 in /usr/local/lib/python3.11/dist-packages (from scikit-learn) (3.6.0)\n",
            "Requirement already satisfied: contourpy>=1.0.1 in /usr/local/lib/python3.11/dist-packages (from matplotlib) (1.3.2)\n",
            "Requirement already satisfied: cycler>=0.10 in /usr/local/lib/python3.11/dist-packages (from matplotlib) (0.12.1)\n",
            "Requirement already satisfied: fonttools>=4.22.0 in /usr/local/lib/python3.11/dist-packages (from matplotlib) (4.58.1)\n",
            "Requirement already satisfied: kiwisolver>=1.3.1 in /usr/local/lib/python3.11/dist-packages (from matplotlib) (1.4.8)\n",
            "Requirement already satisfied: packaging>=20.0 in /usr/local/lib/python3.11/dist-packages (from matplotlib) (24.2)\n",
            "Requirement already satisfied: pillow>=8 in /usr/local/lib/python3.11/dist-packages (from matplotlib) (11.2.1)\n",
            "Requirement already satisfied: pyparsing>=2.3.1 in /usr/local/lib/python3.11/dist-packages (from matplotlib) (3.2.3)\n",
            "Requirement already satisfied: six>=1.5 in /usr/local/lib/python3.11/dist-packages (from python-dateutil>=2.8.2->pandas) (1.17.0)\n"
          ]
        }
      ],
      "source": [
        "pip install pandas numpy scikit-learn matplotlib seaborn\n"
      ]
    },
    {
      "cell_type": "markdown",
      "source": [
        "**2: Loading dataset**"
      ],
      "metadata": {
        "id": "X_K6HxA8aMCG"
      }
    },
    {
      "cell_type": "code",
      "source": [
        "#If we want to avoid downloading manually, you can load the Iris dataset directly within your Python code using scikit-learn"
      ],
      "metadata": {
        "id": "aAJYsMeAY0tx"
      },
      "execution_count": null,
      "outputs": []
    },
    {
      "cell_type": "code",
      "source": [
        "from sklearn.datasets import load_iris\n",
        "\n",
        "# Load the Iris dataset\n",
        "iris = load_iris()\n",
        "\n",
        "# Access the data and target labels\n",
        "X = iris.data\n",
        "y = iris.target\n",
        "\n",
        "# Convert it to a pandas DataFrame\n",
        "import pandas as pd\n",
        "df = pd.DataFrame(X, columns=iris.feature_names)\n",
        "df['species'] = iris.target_names[y]\n",
        "\n",
        "# Display the first few rows\n",
        "print(df.head())\n"
      ],
      "metadata": {
        "colab": {
          "base_uri": "https://localhost:8080/"
        },
        "id": "aDNWuRTXY2qc",
        "outputId": "2736c310-3558-420f-cd58-28646fdbf08c"
      },
      "execution_count": null,
      "outputs": [
        {
          "output_type": "stream",
          "name": "stdout",
          "text": [
            "   sepal length (cm)  sepal width (cm)  petal length (cm)  petal width (cm)  \\\n",
            "0                5.1               3.5                1.4               0.2   \n",
            "1                4.9               3.0                1.4               0.2   \n",
            "2                4.7               3.2                1.3               0.2   \n",
            "3                4.6               3.1                1.5               0.2   \n",
            "4                5.0               3.6                1.4               0.2   \n",
            "\n",
            "  species  \n",
            "0  setosa  \n",
            "1  setosa  \n",
            "2  setosa  \n",
            "3  setosa  \n",
            "4  setosa  \n"
          ]
        }
      ]
    },
    {
      "cell_type": "markdown",
      "source": [
        "**3: Data Exploration and Visualization**"
      ],
      "metadata": {
        "id": "q7knGkEcaSY1"
      }
    },
    {
      "cell_type": "code",
      "source": [
        "#Before building the model, it's good to understand the data using visualizations.\n",
        "\n",
        "#seaborn is usually used for visualizing and understanding data, model performance"
      ],
      "metadata": {
        "id": "nKtPAkHvY7cH"
      },
      "execution_count": null,
      "outputs": []
    },
    {
      "cell_type": "code",
      "source": [
        "#import seaborn as sns\n",
        "#import matplotlib.pyplot as plt\n",
        "\n",
        "# Pairplot to see relationships between features\n",
        "#sns.pairplot(df, hue=\"species\")\n",
        "#plt.show()\n",
        "\n",
        "# Heatmap of correlations\n",
        "#sns.heatmap(df.corr(), annot=True, cmap=\"coolwarm\")\n",
        "#plt.show()\n",
        "\n",
        "import seaborn as sns\n",
        "import matplotlib.pyplot as plt\n",
        "\n",
        "# Select only numeric columns\n",
        "numeric_df = df.select_dtypes(include=['number'])\n",
        "\n",
        "# Compute and plot correlation matrix\n",
        "sns.heatmap(numeric_df.corr(), annot=True, cmap=\"coolwarm\")\n",
        "plt.show()\n"
      ],
      "metadata": {
        "colab": {
          "base_uri": "https://localhost:8080/",
          "height": 543
        },
        "id": "II5W7DDNY_j1",
        "outputId": "a8aeec2a-68b1-4bf5-ec6e-2c57f3b9cdeb"
      },
      "execution_count": null,
      "outputs": [
        {
          "output_type": "display_data",
          "data": {
            "text/plain": [
              "<Figure size 640x480 with 2 Axes>"
            ],
            "image/png": "[encoded data removed]"
          },
          "metadata": {}
        }
      ]
    },
    {
      "cell_type": "markdown",
      "source": [
        "\n",
        "**4: Preprocessing and Splitting the Data**"
      ],
      "metadata": {
        "id": "Sj3H03OBZLKH"
      }
    },
    {
      "cell_type": "code",
      "source": [
        "from sklearn.model_selection import train_test_split\n",
        "\n",
        "# Features (X) and Target (y)\n",
        "X = df.drop('species', axis=1)\n",
        "y = df['species']\n",
        "\n",
        "# Split the dataset into training and testing sets\n",
        "X_train, X_test, y_train, y_test = train_test_split(X, y, test_size=0.3, random_state=42)\n"
      ],
      "metadata": {
        "id": "XwJMyKCbZQqF"
      },
      "execution_count": null,
      "outputs": []
    },
    {
      "cell_type": "markdown",
      "source": [
        "**5: Choose a Machine Learning Model**"
      ],
      "metadata": {
        "id": "756NmcSvZYMN"
      }
    },
    {
      "cell_type": "code",
      "source": [
        "#Logistic Regression, Decision Tree, or K-Nearest Neighbors (KNN) model. Let's try using the KNN classifier, which is easy to\n",
        "#understand and works well with the Iris dataset."
      ],
      "metadata": {
        "id": "qvcYfl1SZb3W"
      },
      "execution_count": null,
      "outputs": []
    },
    {
      "cell_type": "code",
      "source": [
        "from sklearn.neighbors import KNeighborsClassifier\n",
        "from sklearn.metrics import accuracy_score\n",
        "\n",
        "# Initialize the KNN classifier\n",
        "knn = KNeighborsClassifier(n_neighbors=3)\n",
        "\n",
        "# Train the model\n",
        "knn.fit(X_train, y_train)\n",
        "\n",
        "# Make predictions\n",
        "y_pred = knn.predict(X_test)\n",
        "\n",
        "# Evaluate the model\n",
        "accuracy = accuracy_score(y_test, y_pred)\n",
        "print(f\"Accuracy of KNN classifier: {accuracy:.2f}\")\n"
      ],
      "metadata": {
        "colab": {
          "base_uri": "https://localhost:8080/"
        },
        "id": "9uE9k7MlZfFE",
        "outputId": "673d7bbf-00fe-405e-9361-eb8dbe4075cb"
      },
      "execution_count": null,
      "outputs": [
        {
          "output_type": "stream",
          "name": "stdout",
          "text": [
            "Accuracy of KNN classifier: 1.00\n"
          ]
        }
      ]
    },
    {
      "cell_type": "markdown",
      "source": [
        "**6: Fine-tuning the Model**"
      ],
      "metadata": {
        "id": "_nofqBdMZmzQ"
      }
    },
    {
      "cell_type": "code",
      "source": [
        "#You can tune the model to improve its accuracy by adjusting hyperparameters, such as the number of neighbors (n_neighbors in KNN) or the depth\n",
        "#of a decision tree."
      ],
      "metadata": {
        "id": "vWduQfj_ZpJy"
      },
      "execution_count": null,
      "outputs": []
    },
    {
      "cell_type": "code",
      "source": [
        "from sklearn.model_selection import GridSearchCV\n",
        "\n",
        "# Hyperparameters to tune\n",
        "param_grid = {'n_neighbors': range(1, 11)}\n",
        "\n",
        "# GridSearchCV to find the best n_neighbors\n",
        "grid_search = GridSearchCV(KNeighborsClassifier(), param_grid, cv=5)\n",
        "grid_search.fit(X_train, y_train)\n",
        "\n",
        "# Best parameters\n",
        "print(f\"Best parameters: {grid_search.best_params_}\")\n",
        "\n",
        "# Best model\n",
        "best_knn = grid_search.best_estimator_\n",
        "\n",
        "# Evaluate on test set\n",
        "y_pred_best = best_knn.predict(X_test)\n",
        "accuracy_best = accuracy_score(y_test, y_pred_best)\n",
        "print(f\"Accuracy of tuned KNN classifier: {accuracy_best:.2f}\")\n"
      ],
      "metadata": {
        "colab": {
          "base_uri": "https://localhost:8080/"
        },
        "id": "8IUQiJOWZsUM",
        "outputId": "50f20e3c-67e4-4524-966f-655710858a59"
      },
      "execution_count": null,
      "outputs": [
        {
          "output_type": "stream",
          "name": "stdout",
          "text": [
            "Best parameters: {'n_neighbors': 1}\n",
            "Accuracy of tuned KNN classifier: 1.00\n"
          ]
        }
      ]
    },
    {
      "cell_type": "code",
      "source": [
        "# Summary of Key Outputs:\n",
        "#Dataset preview: A table showing the first few rows of data with flower measurements and species.\n",
        "\n",
        "#Accuracy of KNN classifier: Typically close to 1.0 (100%) for simple datasets like Iris.\n",
        "\n",
        "#Hyperparameter tuning result: Shows the best value for n_neighbors and the resulting accuracy.\n",
        "\n",
        "#Decision boundary plot: A visual representation of how the classifier\n",
        "#is distinguishing between species in the 2D feature space."
      ],
      "metadata": {
        "id": "_dEH83a3ZyqO"
      },
      "execution_count": null,
      "outputs": []
    }
  ]
}